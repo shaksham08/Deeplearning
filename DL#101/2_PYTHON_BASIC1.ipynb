{
  "nbformat": 4,
  "nbformat_minor": 0,
  "metadata": {
    "colab": {
      "name": "2.PYTHON_BASIC1.ipynb",
      "provenance": [],
      "collapsed_sections": [
        "eoJGFL2wU57j",
        "q4UdvRDzVEvi",
        "D0hUQuZ8VJ_Z"
      ]
    },
    "kernelspec": {
      "name": "python3",
      "display_name": "Python 3"
    }
  },
  "cells": [
    {
      "cell_type": "markdown",
      "metadata": {
        "id": "eoJGFL2wU57j",
        "colab_type": "text"
      },
      "source": [
        "# Simple data types and operators"
      ]
    },
    {
      "cell_type": "code",
      "metadata": {
        "id": "orCLpSOMU-ra",
        "colab_type": "code",
        "colab": {}
      },
      "source": [
        "name = 'iphone5s'"
      ],
      "execution_count": 0,
      "outputs": []
    },
    {
      "cell_type": "code",
      "metadata": {
        "id": "aM5T-xNzRj6e",
        "colab_type": "code",
        "colab": {
          "base_uri": "https://localhost:8080/",
          "height": 34
        },
        "outputId": "6a098792-ebc4-49d5-b7d8-e67733851d87"
      },
      "source": [
        "type(name)"
      ],
      "execution_count": 35,
      "outputs": [
        {
          "output_type": "execute_result",
          "data": {
            "text/plain": [
              "str"
            ]
          },
          "metadata": {
            "tags": []
          },
          "execution_count": 35
        }
      ]
    },
    {
      "cell_type": "code",
      "metadata": {
        "id": "Dv99eIPkRoRK",
        "colab_type": "code",
        "colab": {
          "base_uri": "https://localhost:8080/",
          "height": 34
        },
        "outputId": "29d66dfc-5819-414e-e5d1-071d2b45f32f"
      },
      "source": [
        "print(name)"
      ],
      "execution_count": 5,
      "outputs": [
        {
          "output_type": "stream",
          "text": [
            "iphone5s\n"
          ],
          "name": "stdout"
        }
      ]
    },
    {
      "cell_type": "code",
      "metadata": {
        "id": "snskxZM3RrER",
        "colab_type": "code",
        "colab": {}
      },
      "source": [
        "screensize= 4.3"
      ],
      "execution_count": 0,
      "outputs": []
    },
    {
      "cell_type": "code",
      "metadata": {
        "id": "JELLRWfARt_4",
        "colab_type": "code",
        "colab": {
          "base_uri": "https://localhost:8080/",
          "height": 34
        },
        "outputId": "af86d0e6-0a26-4970-a8ae-93e0f4299272"
      },
      "source": [
        "type(screensize)"
      ],
      "execution_count": 7,
      "outputs": [
        {
          "output_type": "execute_result",
          "data": {
            "text/plain": [
              "float"
            ]
          },
          "metadata": {
            "tags": []
          },
          "execution_count": 7
        }
      ]
    },
    {
      "cell_type": "code",
      "metadata": {
        "id": "iI1ujkS2RwDP",
        "colab_type": "code",
        "colab": {
          "base_uri": "https://localhost:8080/",
          "height": 34
        },
        "outputId": "33d9b6da-2119-4b8f-ca02-c59e0adb6575"
      },
      "source": [
        "num_of_speaker = 1\n",
        "type(num_of_speaker)"
      ],
      "execution_count": 8,
      "outputs": [
        {
          "output_type": "execute_result",
          "data": {
            "text/plain": [
              "int"
            ]
          },
          "metadata": {
            "tags": []
          },
          "execution_count": 8
        }
      ]
    },
    {
      "cell_type": "code",
      "metadata": {
        "id": "a5-8mUd-R2zW",
        "colab_type": "code",
        "colab": {
          "base_uri": "https://localhost:8080/",
          "height": 34
        },
        "outputId": "8f7c8044-82dc-48ee-97e3-6bd2b20028a3"
      },
      "source": [
        "print(\"i just bought an \" + name)"
      ],
      "execution_count": 9,
      "outputs": [
        {
          "output_type": "stream",
          "text": [
            "i just bought an iphone5s\n"
          ],
          "name": "stdout"
        }
      ]
    },
    {
      "cell_type": "code",
      "metadata": {
        "id": "Cs6cesC1R8Tw",
        "colab_type": "code",
        "colab": {
          "base_uri": "https://localhost:8080/",
          "height": 34
        },
        "outputId": "23cd91ab-8d10-4c38-ec63-9532b5b0d4df"
      },
      "source": [
        "a=3\n",
        "b=2\n",
        "print(a/2,a*b,a+b,a-b,a**b,a//b)"
      ],
      "execution_count": 10,
      "outputs": [
        {
          "output_type": "stream",
          "text": [
            "1.5 6 5 1 9 1\n"
          ],
          "name": "stdout"
        }
      ]
    },
    {
      "cell_type": "code",
      "metadata": {
        "id": "ug_VQ9FJSFFM",
        "colab_type": "code",
        "colab": {
          "base_uri": "https://localhost:8080/",
          "height": 34
        },
        "outputId": "88b8a43a-a027-47de-89bf-2d59e7b68ce4"
      },
      "source": [
        "is_android = False\n",
        "type(is_android)"
      ],
      "execution_count": 11,
      "outputs": [
        {
          "output_type": "execute_result",
          "data": {
            "text/plain": [
              "bool"
            ]
          },
          "metadata": {
            "tags": []
          },
          "execution_count": 11
        }
      ]
    },
    {
      "cell_type": "code",
      "metadata": {
        "id": "1uKSYkAPSRgk",
        "colab_type": "code",
        "colab": {
          "base_uri": "https://localhost:8080/",
          "height": 34
        },
        "outputId": "cb2a32ff-7393-4b6d-c240-0b3f1e2953a1"
      },
      "source": [
        "print(is_android)"
      ],
      "execution_count": 12,
      "outputs": [
        {
          "output_type": "stream",
          "text": [
            "False\n"
          ],
          "name": "stdout"
        }
      ]
    },
    {
      "cell_type": "code",
      "metadata": {
        "id": "_NfESfhEScJ-",
        "colab_type": "code",
        "colab": {
          "base_uri": "https://localhost:8080/",
          "height": 34
        },
        "outputId": "b63fd058-3999-408e-a4f0-6b508cdb7205"
      },
      "source": [
        "print(is_android == True)"
      ],
      "execution_count": 13,
      "outputs": [
        {
          "output_type": "stream",
          "text": [
            "False\n"
          ],
          "name": "stdout"
        }
      ]
    },
    {
      "cell_type": "code",
      "metadata": {
        "id": "50E6FMWwSfv9",
        "colab_type": "code",
        "colab": {
          "base_uri": "https://localhost:8080/",
          "height": 34
        },
        "outputId": "4aabe92c-527b-44f0-d10f-154453c63c3d"
      },
      "source": [
        "print(is_android == False and num_of_speaker>1)"
      ],
      "execution_count": 15,
      "outputs": [
        {
          "output_type": "stream",
          "text": [
            "False\n"
          ],
          "name": "stdout"
        }
      ]
    },
    {
      "cell_type": "markdown",
      "metadata": {
        "id": "q4UdvRDzVEvi",
        "colab_type": "text"
      },
      "source": [
        "#Code blocks - if, for ,while"
      ]
    },
    {
      "cell_type": "code",
      "metadata": {
        "id": "mL5___xQSkrP",
        "colab_type": "code",
        "colab": {
          "base_uri": "https://localhost:8080/",
          "height": 34
        },
        "outputId": "baa1f9be-a602-4c08-e6f0-b79b241089b6"
      },
      "source": [
        "if is_android ==True:\n",
        "  print(name+\" supports android\")\n",
        "  print(\"Contuning to print inside if blocks\")\n",
        "\n",
        "print(\"Printing outside the if\")"
      ],
      "execution_count": 16,
      "outputs": [
        {
          "output_type": "stream",
          "text": [
            "Printing outside the if\n"
          ],
          "name": "stdout"
        }
      ]
    },
    {
      "cell_type": "code",
      "metadata": {
        "id": "fpwDSEwfS4g6",
        "colab_type": "code",
        "colab": {
          "base_uri": "https://localhost:8080/",
          "height": 101
        },
        "outputId": "a2664941-0c17-4bf7-dfda-56053101e28a"
      },
      "source": [
        "for i in range(5):\n",
        "  print(i , i**2)"
      ],
      "execution_count": 17,
      "outputs": [
        {
          "output_type": "stream",
          "text": [
            "0 0\n",
            "1 1\n",
            "2 4\n",
            "3 9\n",
            "4 16\n"
          ],
          "name": "stdout"
        }
      ]
    },
    {
      "cell_type": "code",
      "metadata": {
        "id": "QuosNGG7TBcp",
        "colab_type": "code",
        "colab": {}
      },
      "source": [
        "range?"
      ],
      "execution_count": 0,
      "outputs": []
    },
    {
      "cell_type": "code",
      "metadata": {
        "id": "GsBNDOkDTDQj",
        "colab_type": "code",
        "colab": {
          "base_uri": "https://localhost:8080/",
          "height": 101
        },
        "outputId": "4fa9cf50-f1f6-44b8-da1e-8c72059ad300"
      },
      "source": [
        "i=0\n",
        "while(i<5):\n",
        "  print(i,i**2)\n",
        "  i+= 1  #i=i+1"
      ],
      "execution_count": 19,
      "outputs": [
        {
          "output_type": "stream",
          "text": [
            "0 0\n",
            "1 1\n",
            "2 4\n",
            "3 9\n",
            "4 16\n"
          ],
          "name": "stdout"
        }
      ]
    },
    {
      "cell_type": "markdown",
      "metadata": {
        "id": "D0hUQuZ8VJ_Z",
        "colab_type": "text"
      },
      "source": [
        "#Function"
      ]
    },
    {
      "cell_type": "code",
      "metadata": {
        "id": "2na-huVTTUWu",
        "colab_type": "code",
        "colab": {}
      },
      "source": [
        "def print_square(stop_val):\n",
        "  for i in range(stop_val):\n",
        "    print(i, i**2)"
      ],
      "execution_count": 0,
      "outputs": []
    },
    {
      "cell_type": "code",
      "metadata": {
        "id": "UN33cjL5TiLk",
        "colab_type": "code",
        "colab": {
          "base_uri": "https://localhost:8080/",
          "height": 101
        },
        "outputId": "b622e9ed-61ab-4571-846d-58260ba18b52"
      },
      "source": [
        "print_square(5)"
      ],
      "execution_count": 23,
      "outputs": [
        {
          "output_type": "stream",
          "text": [
            "0 0\n",
            "1 1\n",
            "2 4\n",
            "3 9\n",
            "4 16\n"
          ],
          "name": "stdout"
        }
      ]
    },
    {
      "cell_type": "code",
      "metadata": {
        "id": "vUEjm2AJTkrx",
        "colab_type": "code",
        "colab": {}
      },
      "source": [
        "def sum_of_squares(stop_val):\n",
        "  sum=0\n",
        "  for i in range(stop_val):\n",
        "    sum+=i**2\n",
        "  return sum"
      ],
      "execution_count": 0,
      "outputs": []
    },
    {
      "cell_type": "code",
      "metadata": {
        "id": "yPq7MHAzT14U",
        "colab_type": "code",
        "colab": {
          "base_uri": "https://localhost:8080/",
          "height": 34
        },
        "outputId": "ab34492f-c65f-4d27-ee29-3c0d9543ef73"
      },
      "source": [
        "sum_of_squares(5)"
      ],
      "execution_count": 27,
      "outputs": [
        {
          "output_type": "execute_result",
          "data": {
            "text/plain": [
              "30"
            ]
          },
          "metadata": {
            "tags": []
          },
          "execution_count": 27
        }
      ]
    },
    {
      "cell_type": "code",
      "metadata": {
        "id": "VNxrZ-EqT3ZV",
        "colab_type": "code",
        "colab": {}
      },
      "source": [
        "def print_square_with_startval(stop_val,start_val=0):\n",
        "  \"\"\"Prints the squares of number starting from start val to ending and this is exclusive\"\"\"\n",
        "  for i in range(start_val,stop_val):\n",
        "    print(i, i**2)"
      ],
      "execution_count": 0,
      "outputs": []
    },
    {
      "cell_type": "code",
      "metadata": {
        "id": "MrnzbpT6UL1T",
        "colab_type": "code",
        "colab": {
          "base_uri": "https://localhost:8080/",
          "height": 67
        },
        "outputId": "7c4c9a81-d95e-482d-c81b-cdc88d692c87"
      },
      "source": [
        "print_square_with_startval(5,2)"
      ],
      "execution_count": 31,
      "outputs": [
        {
          "output_type": "stream",
          "text": [
            "2 4\n",
            "3 9\n",
            "4 16\n"
          ],
          "name": "stdout"
        }
      ]
    },
    {
      "cell_type": "code",
      "metadata": {
        "id": "i-fiRoZLUPWG",
        "colab_type": "code",
        "colab": {
          "base_uri": "https://localhost:8080/",
          "height": 101
        },
        "outputId": "527febca-16e4-4d4b-c83a-1a74c715036f"
      },
      "source": [
        "help(print_square_with_startval)"
      ],
      "execution_count": 32,
      "outputs": [
        {
          "output_type": "stream",
          "text": [
            "Help on function print_square_with_startval in module __main__:\n",
            "\n",
            "print_square_with_startval(stop_val, start_val=0)\n",
            "    Prints the squares of number starting from start val to ending and this is exclusive\n",
            "\n"
          ],
          "name": "stdout"
        }
      ]
    },
    {
      "cell_type": "code",
      "metadata": {
        "id": "IxKYg7F3UcQ9",
        "colab_type": "code",
        "colab": {}
      },
      "source": [
        "print_square_with_startval?\n"
      ],
      "execution_count": 0,
      "outputs": []
    },
    {
      "cell_type": "markdown",
      "metadata": {
        "id": "Qturjm0HVPHF",
        "colab_type": "text"
      },
      "source": [
        "#Lists"
      ]
    },
    {
      "cell_type": "code",
      "metadata": {
        "id": "7OBt5lumVQ4C",
        "colab_type": "code",
        "colab": {}
      },
      "source": [
        "my_phone = [name,is_android,screensize]"
      ],
      "execution_count": 0,
      "outputs": []
    },
    {
      "cell_type": "code",
      "metadata": {
        "id": "h4pwEF4UVZjb",
        "colab_type": "code",
        "colab": {
          "base_uri": "https://localhost:8080/",
          "height": 34
        },
        "outputId": "5a153205-488f-4e0a-cea9-da14cfd215ff"
      },
      "source": [
        "type(my_phone)"
      ],
      "execution_count": 38,
      "outputs": [
        {
          "output_type": "execute_result",
          "data": {
            "text/plain": [
              "list"
            ]
          },
          "metadata": {
            "tags": []
          },
          "execution_count": 38
        }
      ]
    },
    {
      "cell_type": "code",
      "metadata": {
        "id": "c5cp-c2tVfGe",
        "colab_type": "code",
        "colab": {
          "base_uri": "https://localhost:8080/",
          "height": 34
        },
        "outputId": "5169c4e7-aeff-4ab0-f5ab-271d936f1e00"
      },
      "source": [
        "print(my_phone)"
      ],
      "execution_count": 39,
      "outputs": [
        {
          "output_type": "stream",
          "text": [
            "['iphone5s', False, 4.3]\n"
          ],
          "name": "stdout"
        }
      ]
    },
    {
      "cell_type": "code",
      "metadata": {
        "id": "x57tQ42tVhBk",
        "colab_type": "code",
        "colab": {
          "base_uri": "https://localhost:8080/",
          "height": 34
        },
        "outputId": "6fe17a88-7b61-421c-e184-0c2a5a5ac18e"
      },
      "source": [
        "my_phone[0]"
      ],
      "execution_count": 40,
      "outputs": [
        {
          "output_type": "execute_result",
          "data": {
            "text/plain": [
              "'iphone5s'"
            ]
          },
          "metadata": {
            "tags": []
          },
          "execution_count": 40
        }
      ]
    },
    {
      "cell_type": "code",
      "metadata": {
        "id": "bICAmDURViqi",
        "colab_type": "code",
        "colab": {
          "base_uri": "https://localhost:8080/",
          "height": 34
        },
        "outputId": "14cb823d-c984-4c45-8af0-df468b625087"
      },
      "source": [
        "type(my_phone[0])"
      ],
      "execution_count": 41,
      "outputs": [
        {
          "output_type": "execute_result",
          "data": {
            "text/plain": [
              "str"
            ]
          },
          "metadata": {
            "tags": []
          },
          "execution_count": 41
        }
      ]
    },
    {
      "cell_type": "code",
      "metadata": {
        "id": "02iT026gVlM-",
        "colab_type": "code",
        "colab": {
          "base_uri": "https://localhost:8080/",
          "height": 34
        },
        "outputId": "5ec92dfc-e772-4260-db8c-051038ea4b31"
      },
      "source": [
        "my_phone[1:3]"
      ],
      "execution_count": 42,
      "outputs": [
        {
          "output_type": "execute_result",
          "data": {
            "text/plain": [
              "[False, 4.3]"
            ]
          },
          "metadata": {
            "tags": []
          },
          "execution_count": 42
        }
      ]
    },
    {
      "cell_type": "code",
      "metadata": {
        "id": "K5Vgti2hVpBy",
        "colab_type": "code",
        "colab": {}
      },
      "source": [
        "my_dadsphone = my_phone"
      ],
      "execution_count": 0,
      "outputs": []
    },
    {
      "cell_type": "code",
      "metadata": {
        "id": "zm6vv3dnVum0",
        "colab_type": "code",
        "colab": {}
      },
      "source": [
        "my_phone[2] = 4"
      ],
      "execution_count": 0,
      "outputs": []
    },
    {
      "cell_type": "code",
      "metadata": {
        "id": "iiwzQ2eZVyOr",
        "colab_type": "code",
        "colab": {
          "base_uri": "https://localhost:8080/",
          "height": 34
        },
        "outputId": "56776919-6361-4266-ba49-9d1fa579cd66"
      },
      "source": [
        "my_phone"
      ],
      "execution_count": 45,
      "outputs": [
        {
          "output_type": "execute_result",
          "data": {
            "text/plain": [
              "['iphone5s', False, 4]"
            ]
          },
          "metadata": {
            "tags": []
          },
          "execution_count": 45
        }
      ]
    },
    {
      "cell_type": "code",
      "metadata": {
        "id": "nViDMCyCVzTw",
        "colab_type": "code",
        "colab": {
          "base_uri": "https://localhost:8080/",
          "height": 34
        },
        "outputId": "96b1c6ec-adf6-4cef-8e99-9561a193baee"
      },
      "source": [
        "my_dadsphone"
      ],
      "execution_count": 46,
      "outputs": [
        {
          "output_type": "execute_result",
          "data": {
            "text/plain": [
              "['iphone5s', False, 4]"
            ]
          },
          "metadata": {
            "tags": []
          },
          "execution_count": 46
        }
      ]
    },
    {
      "cell_type": "markdown",
      "metadata": {
        "id": "U23gWzbpV6vZ",
        "colab_type": "text"
      },
      "source": [
        "Its not doing deep copy "
      ]
    },
    {
      "cell_type": "code",
      "metadata": {
        "id": "xAPMRrSgV0tn",
        "colab_type": "code",
        "colab": {}
      },
      "source": [
        "my_dadsphone = list(my_phone)"
      ],
      "execution_count": 0,
      "outputs": []
    },
    {
      "cell_type": "markdown",
      "metadata": {
        "id": "l4b4rmNDWEui",
        "colab_type": "text"
      },
      "source": [
        "of my_Dadsphone = my_phone[:]"
      ]
    },
    {
      "cell_type": "code",
      "metadata": {
        "id": "yUXuZbAGWA-m",
        "colab_type": "code",
        "colab": {
          "base_uri": "https://localhost:8080/",
          "height": 34
        },
        "outputId": "0b35a55b-625f-410d-ea97-a3cbf217269f"
      },
      "source": [
        "my_dadsphone"
      ],
      "execution_count": 48,
      "outputs": [
        {
          "output_type": "execute_result",
          "data": {
            "text/plain": [
              "['iphone5s', False, 4]"
            ]
          },
          "metadata": {
            "tags": []
          },
          "execution_count": 48
        }
      ]
    },
    {
      "cell_type": "code",
      "metadata": {
        "id": "1GqaeRAtWI_a",
        "colab_type": "code",
        "colab": {}
      },
      "source": [
        "my_phone[2] = 4.3"
      ],
      "execution_count": 0,
      "outputs": []
    },
    {
      "cell_type": "code",
      "metadata": {
        "id": "XykpR0IpWMoO",
        "colab_type": "code",
        "colab": {
          "base_uri": "https://localhost:8080/",
          "height": 50
        },
        "outputId": "562d5923-b188-40e0-97e9-d7ed4865cb9f"
      },
      "source": [
        "print(my_phone)\n",
        "print(my_dadsphone)"
      ],
      "execution_count": 51,
      "outputs": [
        {
          "output_type": "stream",
          "text": [
            "['iphone5s', False, 4.3]\n",
            "['iphone5s', False, 4]\n"
          ],
          "name": "stdout"
        }
      ]
    },
    {
      "cell_type": "code",
      "metadata": {
        "id": "faetrdxnWTl1",
        "colab_type": "code",
        "colab": {
          "base_uri": "https://localhost:8080/",
          "height": 34
        },
        "outputId": "2cf491fa-4bf4-4837-a11e-cac822461623"
      },
      "source": [
        "len(my_phone)"
      ],
      "execution_count": 52,
      "outputs": [
        {
          "output_type": "execute_result",
          "data": {
            "text/plain": [
              "3"
            ]
          },
          "metadata": {
            "tags": []
          },
          "execution_count": 52
        }
      ]
    },
    {
      "cell_type": "code",
      "metadata": {
        "id": "ydi-hMdyWbSU",
        "colab_type": "code",
        "colab": {}
      },
      "source": [
        "len?\n"
      ],
      "execution_count": 0,
      "outputs": []
    },
    {
      "cell_type": "code",
      "metadata": {
        "id": "ibAEBFiQWdAA",
        "colab_type": "code",
        "colab": {}
      },
      "source": [
        "my_phone.append(\"3g\")"
      ],
      "execution_count": 0,
      "outputs": []
    },
    {
      "cell_type": "code",
      "metadata": {
        "id": "ynjjK5DYWnRK",
        "colab_type": "code",
        "colab": {
          "base_uri": "https://localhost:8080/",
          "height": 34
        },
        "outputId": "4404442a-40ad-40df-d5b5-927196a5e891"
      },
      "source": [
        "print(my_phone)"
      ],
      "execution_count": 55,
      "outputs": [
        {
          "output_type": "stream",
          "text": [
            "['iphone5s', False, 4.3, '3g']\n"
          ],
          "name": "stdout"
        }
      ]
    },
    {
      "cell_type": "code",
      "metadata": {
        "id": "A6HUnwMeWpkI",
        "colab_type": "code",
        "colab": {
          "base_uri": "https://localhost:8080/",
          "height": 34
        },
        "outputId": "d424910b-7fbf-4cf9-990a-1f78bf542102"
      },
      "source": [
        "len(my_phone)"
      ],
      "execution_count": 56,
      "outputs": [
        {
          "output_type": "execute_result",
          "data": {
            "text/plain": [
              "4"
            ]
          },
          "metadata": {
            "tags": []
          },
          "execution_count": 56
        }
      ]
    },
    {
      "cell_type": "code",
      "metadata": {
        "id": "7pKTvNJnWsFq",
        "colab_type": "code",
        "colab": {}
      },
      "source": [
        "iphone5s_some_prefs = [\"single sim\" , 35000]"
      ],
      "execution_count": 0,
      "outputs": []
    },
    {
      "cell_type": "code",
      "metadata": {
        "id": "PrXoKfcMWxIT",
        "colab_type": "code",
        "colab": {}
      },
      "source": [
        "my_phone = my_phone+iphone5s_some_prefs"
      ],
      "execution_count": 0,
      "outputs": []
    },
    {
      "cell_type": "code",
      "metadata": {
        "id": "KaSJf5skW1hg",
        "colab_type": "code",
        "colab": {
          "base_uri": "https://localhost:8080/",
          "height": 34
        },
        "outputId": "34b73f15-ca23-4fc4-9249-15713103e59c"
      },
      "source": [
        "print(my_phone)"
      ],
      "execution_count": 59,
      "outputs": [
        {
          "output_type": "stream",
          "text": [
            "['iphone5s', False, 4.3, '3g', 'single sim', 35000]\n"
          ],
          "name": "stdout"
        }
      ]
    },
    {
      "cell_type": "code",
      "metadata": {
        "id": "qikZrVwlW3xe",
        "colab_type": "code",
        "colab": {
          "base_uri": "https://localhost:8080/",
          "height": 118
        },
        "outputId": "8972bab1-79d5-49b0-bb9f-85ee029484af"
      },
      "source": [
        "for data in my_phone:\n",
        "  print(data)"
      ],
      "execution_count": 60,
      "outputs": [
        {
          "output_type": "stream",
          "text": [
            "iphone5s\n",
            "False\n",
            "4.3\n",
            "3g\n",
            "single sim\n",
            "35000\n"
          ],
          "name": "stdout"
        }
      ]
    },
    {
      "cell_type": "code",
      "metadata": {
        "id": "b81yBEYSW-ia",
        "colab_type": "code",
        "colab": {
          "base_uri": "https://localhost:8080/",
          "height": 34
        },
        "outputId": "f10f2d5c-4141-4a86-d2c7-4b071e49a388"
      },
      "source": [
        "print(list(range(5)))"
      ],
      "execution_count": 61,
      "outputs": [
        {
          "output_type": "stream",
          "text": [
            "[0, 1, 2, 3, 4]\n"
          ],
          "name": "stdout"
        }
      ]
    },
    {
      "cell_type": "code",
      "metadata": {
        "id": "tIOmQLyhXGtk",
        "colab_type": "code",
        "colab": {
          "base_uri": "https://localhost:8080/",
          "height": 34
        },
        "outputId": "79bae133-61ed-44e7-d7ae-d781909857f6"
      },
      "source": [
        "a = list(range(5))\n",
        "print(a)"
      ],
      "execution_count": 63,
      "outputs": [
        {
          "output_type": "stream",
          "text": [
            "[0, 1, 2, 3, 4]\n"
          ],
          "name": "stdout"
        }
      ]
    },
    {
      "cell_type": "code",
      "metadata": {
        "id": "ZjRFyhoMXOB0",
        "colab_type": "code",
        "colab": {}
      },
      "source": [
        "b = list(map(lambda x: x**2 ,a))"
      ],
      "execution_count": 0,
      "outputs": []
    },
    {
      "cell_type": "markdown",
      "metadata": {
        "id": "C9nEYiySXeT3",
        "colab_type": "text"
      },
      "source": [
        "This is the use of lamba funciton"
      ]
    },
    {
      "cell_type": "code",
      "metadata": {
        "id": "2qUFGPBXXVM0",
        "colab_type": "code",
        "colab": {
          "base_uri": "https://localhost:8080/",
          "height": 34
        },
        "outputId": "d2d3b739-7552-4024-9f2c-3315fc441e17"
      },
      "source": [
        "print(b)"
      ],
      "execution_count": 67,
      "outputs": [
        {
          "output_type": "stream",
          "text": [
            "[0, 1, 4, 9, 16]\n"
          ],
          "name": "stdout"
        }
      ]
    },
    {
      "cell_type": "code",
      "metadata": {
        "id": "_P8cfci4XWWl",
        "colab_type": "code",
        "colab": {}
      },
      "source": [
        "c = list(filter(lambda x:x%2==0 ,b))"
      ],
      "execution_count": 0,
      "outputs": []
    },
    {
      "cell_type": "code",
      "metadata": {
        "id": "dTG9BmZmXq3I",
        "colab_type": "code",
        "colab": {
          "base_uri": "https://localhost:8080/",
          "height": 34
        },
        "outputId": "388aba1e-367e-481f-c70a-43df9346c5e1"
      },
      "source": [
        "print(c)"
      ],
      "execution_count": 69,
      "outputs": [
        {
          "output_type": "stream",
          "text": [
            "[0, 4, 16]\n"
          ],
          "name": "stdout"
        }
      ]
    },
    {
      "cell_type": "code",
      "metadata": {
        "id": "B8qyMH8RXr1z",
        "colab_type": "code",
        "colab": {}
      },
      "source": [
        ""
      ],
      "execution_count": 0,
      "outputs": []
    }
  ]
}