{
  "nbformat": 4,
  "nbformat_minor": 0,
  "metadata": {
    "colab": {
      "name": "1.COMMANDS.ipynb",
      "provenance": [],
      "collapsed_sections": [],
      "toc_visible": true
    },
    "kernelspec": {
      "name": "python3",
      "display_name": "Python 3"
    }
  },
  "cells": [
    {
      "cell_type": "markdown",
      "metadata": {
        "id": "VEytnTw4Qzce",
        "colab_type": "text"
      },
      "source": [
        "#SECTION1: COMMANDS"
      ]
    },
    {
      "cell_type": "code",
      "metadata": {
        "id": "DZiKG6iPOTm0",
        "colab_type": "code",
        "colab": {
          "base_uri": "https://localhost:8080/",
          "height": 34
        },
        "outputId": "a66bb90e-a791-4fa2-bba3-21aba8fc89ca"
      },
      "source": [
        "!ls"
      ],
      "execution_count": 2,
      "outputs": [
        {
          "output_type": "stream",
          "text": [
            "sample_data\n"
          ],
          "name": "stdout"
        }
      ]
    },
    {
      "cell_type": "markdown",
      "metadata": {
        "id": "ohGJAqnsOrmu",
        "colab_type": "text"
      },
      "source": [
        "USing this we can see the **specs** of the machine which we are using\n",
        "\n"
      ]
    },
    {
      "cell_type": "code",
      "metadata": {
        "id": "gMPmaBD2OyEL",
        "colab_type": "code",
        "colab": {}
      },
      "source": [
        "!cat /proc/cpuinfo"
      ],
      "execution_count": 0,
      "outputs": []
    },
    {
      "cell_type": "markdown",
      "metadata": {
        "id": "QQTFjOsiPNeM",
        "colab_type": "text"
      },
      "source": [
        "using this we can see amount of the ram\n"
      ]
    },
    {
      "cell_type": "code",
      "metadata": {
        "id": "lIW79eQzPQ4X",
        "colab_type": "code",
        "colab": {}
      },
      "source": [
        "!cat /proc/meminfo"
      ],
      "execution_count": 0,
      "outputs": []
    }
  ]
}